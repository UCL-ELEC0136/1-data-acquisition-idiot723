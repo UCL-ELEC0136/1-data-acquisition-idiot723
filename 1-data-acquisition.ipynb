{
 "cells": [
  {
   "cell_type": "markdown",
   "metadata": {},
   "source": [
    "<div width=50% style=\"display: block; margin: auto\">\n",
    "    <img src=\"figures/ucl-logo.svg\" width=100%>\n",
    "</div>\n",
    "\n",
    "### [UCL-ELEC0136 Data Acquisition and Processing Systems 2024]()\n",
    "University College London\n",
    "# Lab 1: Data Acquisition\n",
    "\n",
    "\n",
    "<hr width=70% style=\"float: left\">"
   ]
  },
  {
   "cell_type": "markdown",
   "metadata": {},
   "source": [
    "### Objectives\n",
    "\n",
    "The data acquisition lab aims to show how we can find and acquire various data sources (e.g., web scraping, social media, databases, sensors).   \n",
    "In this lab, you will learn:\n",
    "- How to use Python to acquire data from various sources\n",
    "- How to store data in a json format\n",
    "- How to commit and push your code to GitHub\n",
    "\n",
    "\n",
    "### Outline\n",
    "\n",
    "In this class we will cover the following topics:\n",
    "\n",
    "1. [Accepting an assignment](#1.-Accepting-an-assignment)\n",
    "2. [Cloning a repository](#2.-Cloning-a-repository)\n",
    "3. [Creating a virtual environment](#3.-Creating-a-virtual-environment)\n",
    "4. [Acquiring data using the `requests` module and the GitHub RESTful APIs](#4.-Acquiring-data-using-the-requests-module-and-the-GitHub-RESTful-APIs)\n",
    "5. [Pushing your code to GitHub](#5.-Pushing-your-code-to-GitHub)\n",
    "6. [Submitting your assignment](#6.-Submitting-your-assignment)\n",
    "\n",
    "<hr width=70% style=\"float: left\">"
   ]
  },
  {
   "cell_type": "markdown",
   "metadata": {},
   "source": [
    "## 1. Accepting an assignment"
   ]
  },
  {
   "cell_type": "markdown",
   "metadata": {},
   "source": [
    "- For every week of the course, you will be given an assignment to complete.\n",
    "\n",
    "- You can find the **links** to your assignments on Moodle.\n",
    "\n",
    "- When you click on the link, you will be redirected to GitHub Classroom, where you will be asked to accept the assignment. The page will look like this:\n",
    "\n",
    "- GitHub Classroom will create a **public repository** for you, which will contain the assignment, with pattern `<assignment-name>-<your-github-username>`.\n",
    "\n",
    "\n",
    "\n",
    "<div width=50% style=\"display: block; margin-left: auto\">\n",
    "    <img src=\"figures/accepted-assignment.png\" style=\"display: block; margin: auto\" width=50%>\n",
    "</div>\n"
   ]
  },
  {
   "cell_type": "code",
   "execution_count": null,
   "metadata": {},
   "outputs": [],
   "source": [
    "# write your code here, if applicable"
   ]
  },
  {
   "cell_type": "markdown",
   "metadata": {},
   "source": [
    "## 2. Cloning a repository\n",
    "\n",
    "\n",
    "<div class=\"alert alert-block alert-danger\">\n",
    "<b>👩‍💻👨‍💻 Action required</b>\n",
    "\n",
    "- Open a terminal\n",
    "- Navigate to the directory where you want to store your assignment\n",
    "- Clone the repository using the command `git clone <repository-url>`\n",
    "- Navigate to the cloned repository using the command `cd <repository-name>`\n",
    "\n",
    "</div>"
   ]
  },
  {
   "cell_type": "code",
   "execution_count": null,
   "metadata": {},
   "outputs": [],
   "source": [
    "git clone https://github.com/UCL-ELEC0136/1-data-acquisition-idiot723"
   ]
  },
  {
   "cell_type": "markdown",
   "metadata": {},
   "source": [
    "## 3. Creating a virtual environment\n",
    "\n",
    "You should already have installed [**Anaconda**](https://docs.anaconda.com/free/anaconda/) or an open-source equivalent (preferred), such as [**Miniconda**](https://docs.conda.io/projects/miniconda/en/latest/miniconda-install.html).\n",
    "\n",
    "In this course we advice to mangage your python version using `conda` (e.g. Python 3.9 vs 3.10) and the packages required by Python using `pip`.\n",
    "Check our the preliminary material on the [UCL Moodle](https://moodle.ucl.ac.uk/mod/page/view.php?id=5693674) for instructions on how to use enviornment files.\n",
    "Alternatively, have a look [here](https://github.com/UCL-ELEC0136/example-requirements) to see how an environment file looks like when pip requirements are included in the file itself,\n",
    "or [here](https://github.com/UCL-ELEC0136/setup) for how an environment file where the pip requirements are stored separate into another file.\n",
    "\n",
    "\n",
    "This is a key step as it guarantees that your development environment is **reproducible** by somebody else.\n",
    "Failing do to this in the final assignment will get you a score of 0 (zero) in reproducibility.\n",
    "\n",
    "<div class=\"alert alert-block alert-danger\">\n",
    "<b>👩‍💻👨‍💻 Action required</b>\n",
    "\n",
    "- Create a `conda` environment file and name it `environment.yml`.\n",
    "- The environment (not the file) **must** have name `daps`.\n",
    "- Add `pip` dependencies **within** the environment file to specify the packages that your project needs to run. If you don't know yet which dependencies to use, yo ucan leave the file blank for now and add dependencies later.\n",
    "- Activate the environment using `conda activate daps`.\n",
    "- Install the dependencies using `pip install -r requirements.txt`.\n",
    "</div>\n",
    "\n",
    "\n",
    "<div class=\"alert alert-heading alert-danger\" style=\"background-color: white; border: 2px solid; border-radius: 5px; color: #000; border-color:#AAA; padding: 10px\">\n",
    "    <b>💎 Tip</b>\n",
    "\n",
    "You can prepend an exclamation mark `!` to any command in a Jupyter notebook to run it in the terminal. For example, `!conda activate daps` will activate the `daps` environment in the terminal.\n",
    "\n",
    "</div>\n",
    "\n"
   ]
  },
  {
   "cell_type": "code",
   "execution_count": null,
   "metadata": {},
   "outputs": [],
   "source": [
    "conda create --name daps\n",
    "conda activate daps\n",
    "pip install python=3.11\n",
    "pip install jupyterlab"
   ]
  },
  {
   "cell_type": "markdown",
   "metadata": {},
   "source": [
    "## 4. Acquiring data using the `requests` module and the GitHub RESTful APIs\n",
    "\n",
    "The `requests` module is a Python module that allows you to send HTTP requests to a server and receive a response.\n",
    "We will use it to acquire data from the web.\n",
    "\n",
    "<div class=\"alert alert-block alert-danger\">\n",
    "<b>👩‍💻👨‍💻 Action required</b>\n",
    "\n",
    "- Import the `requests` module using `import requests`.\n",
    "- Use the `requests.get()` function to send a `GET` request to a server. The function takes as input the URL of the server, and returns a `Response` object.\n",
    "- Acquire 100 repositories from the `https://github.com/orgs/UCL-ELEC0136` organisation\n",
    "- Use the `Response` object to access the response of the server. For example, you can access the response status code using `Response.status_code`.\n",
    "- Use the `Response.json()` function to convert the response content to a `dict` object.\n",
    "- Use the `json` module to save the `dict` object to a file using `json.dump()`\n",
    "- Use the `json.load()` function to load the `dict` object from the file.\n",
    "- Verify that the `dict` object you loaded from the file is the same as the one you saved to the file.\n",
    "\n",
    "</div>\n",
    "\n",
    "\n",
    "<div class=\"alert alert-heading alert-danger\" style=\"background-color: white; border: 2px solid; border-radius: 5px; color: #000; border-color:#AAA; padding: 10px\">\n",
    "    <b>💎 Tip</b>\n",
    "\n",
    "Check out the GitHub REST API documentation to see how to acquire information from GitHub using the API.\n",
    "For example, you can use the following URL to retrieve information about the repository `https://api.github.com/repos/<username>/<repository-name>`, but this is not the query we want. We want **all** at least 100 repositories of an organisation.\n",
    "You can check the API's documentation here https://docs.github.com/en/rest?apiVersion=2022-11-28 or check Stackoverflow answers.\n",
    "</div>"
   ]
  },
  {
   "cell_type": "code",
   "execution_count": 14,
   "metadata": {},
   "outputs": [
    {
     "name": "stdout",
     "output_type": "stream",
     "text": [
      "100\n",
      "100\n",
      "https://api.github.com/repos/UCL-ELEC0136/github-starter-course\n",
      "https://api.github.com/repos/UCL-ELEC0136/0-git-github-fundamentals-Fanny-Yuan\n",
      "https://api.github.com/repos/UCL-ELEC0136/0-git-github-fundamentals-Lucatoniyan\n",
      "https://api.github.com/repos/UCL-ELEC0136/0-git-github-fundamentals-hcy0523\n",
      "https://api.github.com/repos/UCL-ELEC0136/0-git-github-fundamentals-tanpinray\n",
      "https://api.github.com/repos/UCL-ELEC0136/0-git-github-fundamentals-Trinity-Actual\n",
      "https://api.github.com/repos/UCL-ELEC0136/0-git-github-fundamentals-putubagusraka\n",
      "https://api.github.com/repos/UCL-ELEC0136/1-data-acquisition-Trinity-Actual\n",
      "https://api.github.com/repos/UCL-ELEC0136/1-data-acquisition-tanpinray\n",
      "https://api.github.com/repos/UCL-ELEC0136/1-data-acquisition-orionsor\n",
      "https://api.github.com/repos/UCL-ELEC0136/1-data-acquisition-konyc99\n",
      "https://api.github.com/repos/UCL-ELEC0136/1-data-acquisition-wxy12151\n",
      "https://api.github.com/repos/UCL-ELEC0136/1-data-acquisition-hcy0523\n",
      "https://api.github.com/repos/UCL-ELEC0136/1-data-acquisition-Robinaoko\n",
      "https://api.github.com/repos/UCL-ELEC0136/1-data-acquisition-Dinakia\n",
      "https://api.github.com/repos/UCL-ELEC0136/1-data-acquisition-putubagusraka\n",
      "https://api.github.com/repos/UCL-ELEC0136/1-data-acquisition-AWMAPPLELIN\n",
      "https://api.github.com/repos/UCL-ELEC0136/0-git-github-fundamentals-Robinaoko\n",
      "https://api.github.com/repos/UCL-ELEC0136/1-data-acquisition-KarlrDing\n",
      "https://api.github.com/repos/UCL-ELEC0136/1-data-acquisition-Lavender517\n",
      "https://api.github.com/repos/UCL-ELEC0136/1-data-acquisition-lorenzobonito\n",
      "https://api.github.com/repos/UCL-ELEC0136/1-data-acquisition-jossmt\n",
      "https://api.github.com/repos/UCL-ELEC0136/1-data-acquisition-wendiganyu\n",
      "https://api.github.com/repos/UCL-ELEC0136/1-data-acquisition-Fanny-Yuan\n",
      "https://api.github.com/repos/UCL-ELEC0136/1-data-acquisition-zceepst\n",
      "https://api.github.com/repos/UCL-ELEC0136/1-data-acquisition-Vanko1998\n",
      "https://api.github.com/repos/UCL-ELEC0136/2-data-processing-KarlrDing\n",
      "https://api.github.com/repos/UCL-ELEC0136/2-data-processing-wxy12151\n",
      "https://api.github.com/repos/UCL-ELEC0136/0-git-github-fundamentals-KarlrDing\n",
      "https://api.github.com/repos/UCL-ELEC0136/2-data-processing-plumcola\n",
      "https://api.github.com/repos/UCL-ELEC0136/1-data-acquisition-ClarkRen123\n",
      "https://api.github.com/repos/UCL-ELEC0136/2-data-processing-Vanko1998\n",
      "https://api.github.com/repos/UCL-ELEC0136/1-data-acquisition-plumcola\n",
      "https://api.github.com/repos/UCL-ELEC0136/0-git-github-fundamentals-plumcola\n",
      "https://api.github.com/repos/UCL-ELEC0136/1-data-acquisition-akosua00\n",
      "https://api.github.com/repos/UCL-ELEC0136/2-data-processing-tobyloby12\n",
      "https://api.github.com/repos/UCL-ELEC0136/1-data-acquisition-tobyloby12\n",
      "https://api.github.com/repos/UCL-ELEC0136/2-data-processing-TENGLi99\n",
      "https://api.github.com/repos/UCL-ELEC0136/1-data-acquisition-Bhavya006\n",
      "https://api.github.com/repos/UCL-ELEC0136/2-data-processing-tanpinray\n",
      "https://api.github.com/repos/UCL-ELEC0136/0-git-github-fundamentals-Bhavya006\n",
      "https://api.github.com/repos/UCL-ELEC0136/0-git-github-fundamentals-wxy12151\n",
      "https://api.github.com/repos/UCL-ELEC0136/0-git-github-fundamentals-Dinakia\n",
      "https://api.github.com/repos/UCL-ELEC0136/1-data-acquisition-TENGLi99\n",
      "https://api.github.com/repos/UCL-ELEC0136/2-data-processing-putubagusraka\n",
      "https://api.github.com/repos/UCL-ELEC0136/0-git-github-fundamentals-TENGLi99\n",
      "https://api.github.com/repos/UCL-ELEC0136/2-data-processing-Lavender517\n",
      "https://api.github.com/repos/UCL-ELEC0136/1-data-acquisition-zhaoyangyin1231\n",
      "https://api.github.com/repos/UCL-ELEC0136/2-data-processing-jossmt\n",
      "https://api.github.com/repos/UCL-ELEC0136/2-data-processing-Robinaoko\n",
      "https://api.github.com/repos/UCL-ELEC0136/2-data-processing-Allenfanfan\n",
      "https://api.github.com/repos/UCL-ELEC0136/2-data-processing-orionsor\n",
      "https://api.github.com/repos/UCL-ELEC0136/2-data-processing-wendiganyu\n",
      "https://api.github.com/repos/UCL-ELEC0136/2-data-processing-lorenzobonito\n",
      "https://api.github.com/repos/UCL-ELEC0136/2-data-processing-Trinity-Actual\n",
      "https://api.github.com/repos/UCL-ELEC0136/2-data-processing-Dinakia\n",
      "https://api.github.com/repos/UCL-ELEC0136/1-data-acquisition-Allenfanfan\n",
      "https://api.github.com/repos/UCL-ELEC0136/2-data-processing-zhaoyangyin1231\n",
      "https://api.github.com/repos/UCL-ELEC0136/2-data-processing-zceezl1\n",
      "https://api.github.com/repos/UCL-ELEC0136/1-data-acquisition-zceezl1\n",
      "https://api.github.com/repos/UCL-ELEC0136/2-data-processing-yousef-m11\n",
      "https://api.github.com/repos/UCL-ELEC0136/1-data-acquisition-nicogig\n",
      "https://api.github.com/repos/UCL-ELEC0136/0-git-github-fundamentals-akosua00\n",
      "https://api.github.com/repos/UCL-ELEC0136/2-data-processing-nicogig\n",
      "https://api.github.com/repos/UCL-ELEC0136/1-data-acquisition-Lucatoniyan\n",
      "https://api.github.com/repos/UCL-ELEC0136/2-data-processing-oldcccc\n",
      "https://api.github.com/repos/UCL-ELEC0136/2-data-processing-Fanny-Yuan\n",
      "https://api.github.com/repos/UCL-ELEC0136/2-data-processing-konyc99\n",
      "https://api.github.com/repos/UCL-ELEC0136/3-data-storage-lorenzobonito\n",
      "https://api.github.com/repos/UCL-ELEC0136/3-data-storage-nicogig\n",
      "https://api.github.com/repos/UCL-ELEC0136/1-data-acquisition-D-Luyao-Wang\n",
      "https://api.github.com/repos/UCL-ELEC0136/setup\n",
      "https://api.github.com/repos/UCL-ELEC0136/2-data-processing-akosua00\n",
      "https://api.github.com/repos/UCL-ELEC0136/0-git-github-fundamentals-zhaoyangyin1231\n",
      "https://api.github.com/repos/UCL-ELEC0136/2-data-processing-D-Luyao-Wang\n",
      "https://api.github.com/repos/UCL-ELEC0136/1-data-acquisition-Zhao-Mingyang\n",
      "https://api.github.com/repos/UCL-ELEC0136/2-data-processing-Zhao-Mingyang\n",
      "https://api.github.com/repos/UCL-ELEC0136/0-git-github-fundamentals-Zhao-Mingyang\n",
      "https://api.github.com/repos/UCL-ELEC0136/0-git-github-fundamentals-zceezl1\n",
      "https://api.github.com/repos/UCL-ELEC0136/2-data-processing-hcy0523\n",
      "https://api.github.com/repos/UCL-ELEC0136/1-data-acquisition-sayannide99\n",
      "https://api.github.com/repos/UCL-ELEC0136/2-data-processing-sayannide99\n",
      "https://api.github.com/repos/UCL-ELEC0136/2-data-processing-Lucatoniyan\n",
      "https://api.github.com/repos/UCL-ELEC0136/3-data-storage-Trinity-Actual\n",
      "https://api.github.com/repos/UCL-ELEC0136/3-data-storage-sayannide99\n",
      "https://api.github.com/repos/UCL-ELEC0136/3-data-storage-tanpinray\n",
      "https://api.github.com/repos/UCL-ELEC0136/3-data-storage-putubagusraka\n",
      "https://api.github.com/repos/UCL-ELEC0136/3-data-storage-Fanny-Yuan\n",
      "https://api.github.com/repos/UCL-ELEC0136/3-data-storage-Lavender517\n",
      "https://api.github.com/repos/UCL-ELEC0136/3-data-storage-Dinakia\n",
      "https://api.github.com/repos/UCL-ELEC0136/3-data-storage-TENGLi99\n",
      "https://api.github.com/repos/UCL-ELEC0136/2-data-processing-zceepst\n",
      "https://api.github.com/repos/UCL-ELEC0136/3-data-storage-zceepst\n",
      "https://api.github.com/repos/UCL-ELEC0136/3-data-storage-KarlrDing\n",
      "https://api.github.com/repos/UCL-ELEC0136/2-data-processing-ouxunuo\n",
      "https://api.github.com/repos/UCL-ELEC0136/1-data-acquisition-zceeart\n",
      "https://api.github.com/repos/UCL-ELEC0136/0-git-github-fundamentals-zceeart\n",
      "https://api.github.com/repos/UCL-ELEC0136/3-data-storage-jossmt\n",
      "https://api.github.com/repos/UCL-ELEC0136/3-data-storage-wendiganyu\n",
      "https://api.github.com/repos/UCL-ELEC0136/1-data-acquisition-zceeanb\n"
     ]
    }
   ],
   "source": [
    "import requests\n",
    "entry_point = \"https://api.github.com/\"\n",
    "username = \"UCL-ELEC0136/\"\n",
    "query = entry_point + \"orgs/\" + username + \"repos\"\n",
    "response = requests.get(query, params={\"per_page\": 100, \"page\":1})\n",
    "\n",
    "\n",
    "repos = response.json()\n",
    "print(len(repos))\n",
    "\n",
    "urls = []\n",
    "for repo in repos:\n",
    "    url = repo[\"url\"]\n",
    "    urls.append(url)\n",
    "\n",
    "print(len(urls))\n",
    "#print(urls)\n",
    "\n",
    "for i in range(100):\n",
    "    print(repos[i][\"url\"])\n",
    "\n",
    "\n"
   ]
  },
  {
   "cell_type": "markdown",
   "metadata": {},
   "source": [
    "## 4.1 Pagination\n",
    "\n",
    "<div class=\"alert alert-block alert-warning\">\n",
    "<b>👩‍💻👨‍💻 Optional action</b>\n",
    "\n",
    "- What if we want 200 repositories?\n",
    "\n",
    "</div>\n",
    "\n",
    "\n",
    "<div class=\"alert alert-heading alert-danger\" style=\"background-color: white; border: 2px solid; border-radius: 5px; color: #000; border-color:#AAA; padding: 10px\">\n",
    "    <b>💎 Tip</b>\n",
    "\n",
    "The method is in the title of this section\n",
    "</div>"
   ]
  },
  {
   "cell_type": "code",
   "execution_count": 20,
   "metadata": {},
   "outputs": [
    {
     "name": "stdout",
     "output_type": "stream",
     "text": [
      "200\n",
      "['https://api.github.com/repos/UCL-ELEC0136/github-starter-course', 'https://api.github.com/repos/UCL-ELEC0136/0-git-github-fundamentals-Fanny-Yuan', 'https://api.github.com/repos/UCL-ELEC0136/0-git-github-fundamentals-Lucatoniyan', 'https://api.github.com/repos/UCL-ELEC0136/0-git-github-fundamentals-hcy0523', 'https://api.github.com/repos/UCL-ELEC0136/0-git-github-fundamentals-tanpinray', 'https://api.github.com/repos/UCL-ELEC0136/0-git-github-fundamentals-Trinity-Actual', 'https://api.github.com/repos/UCL-ELEC0136/0-git-github-fundamentals-putubagusraka', 'https://api.github.com/repos/UCL-ELEC0136/1-data-acquisition-Trinity-Actual', 'https://api.github.com/repos/UCL-ELEC0136/1-data-acquisition-tanpinray', 'https://api.github.com/repos/UCL-ELEC0136/1-data-acquisition-orionsor', 'https://api.github.com/repos/UCL-ELEC0136/1-data-acquisition-konyc99', 'https://api.github.com/repos/UCL-ELEC0136/1-data-acquisition-wxy12151', 'https://api.github.com/repos/UCL-ELEC0136/1-data-acquisition-hcy0523', 'https://api.github.com/repos/UCL-ELEC0136/1-data-acquisition-Robinaoko', 'https://api.github.com/repos/UCL-ELEC0136/1-data-acquisition-Dinakia', 'https://api.github.com/repos/UCL-ELEC0136/1-data-acquisition-putubagusraka', 'https://api.github.com/repos/UCL-ELEC0136/1-data-acquisition-AWMAPPLELIN', 'https://api.github.com/repos/UCL-ELEC0136/0-git-github-fundamentals-Robinaoko', 'https://api.github.com/repos/UCL-ELEC0136/1-data-acquisition-KarlrDing', 'https://api.github.com/repos/UCL-ELEC0136/1-data-acquisition-Lavender517', 'https://api.github.com/repos/UCL-ELEC0136/1-data-acquisition-lorenzobonito', 'https://api.github.com/repos/UCL-ELEC0136/1-data-acquisition-jossmt', 'https://api.github.com/repos/UCL-ELEC0136/1-data-acquisition-wendiganyu', 'https://api.github.com/repos/UCL-ELEC0136/1-data-acquisition-Fanny-Yuan', 'https://api.github.com/repos/UCL-ELEC0136/1-data-acquisition-zceepst', 'https://api.github.com/repos/UCL-ELEC0136/1-data-acquisition-Vanko1998', 'https://api.github.com/repos/UCL-ELEC0136/2-data-processing-KarlrDing', 'https://api.github.com/repos/UCL-ELEC0136/2-data-processing-wxy12151', 'https://api.github.com/repos/UCL-ELEC0136/0-git-github-fundamentals-KarlrDing', 'https://api.github.com/repos/UCL-ELEC0136/2-data-processing-plumcola', 'https://api.github.com/repos/UCL-ELEC0136/1-data-acquisition-ClarkRen123', 'https://api.github.com/repos/UCL-ELEC0136/2-data-processing-Vanko1998', 'https://api.github.com/repos/UCL-ELEC0136/1-data-acquisition-plumcola', 'https://api.github.com/repos/UCL-ELEC0136/0-git-github-fundamentals-plumcola', 'https://api.github.com/repos/UCL-ELEC0136/1-data-acquisition-akosua00', 'https://api.github.com/repos/UCL-ELEC0136/2-data-processing-tobyloby12', 'https://api.github.com/repos/UCL-ELEC0136/1-data-acquisition-tobyloby12', 'https://api.github.com/repos/UCL-ELEC0136/2-data-processing-TENGLi99', 'https://api.github.com/repos/UCL-ELEC0136/1-data-acquisition-Bhavya006', 'https://api.github.com/repos/UCL-ELEC0136/2-data-processing-tanpinray', 'https://api.github.com/repos/UCL-ELEC0136/0-git-github-fundamentals-Bhavya006', 'https://api.github.com/repos/UCL-ELEC0136/0-git-github-fundamentals-wxy12151', 'https://api.github.com/repos/UCL-ELEC0136/0-git-github-fundamentals-Dinakia', 'https://api.github.com/repos/UCL-ELEC0136/1-data-acquisition-TENGLi99', 'https://api.github.com/repos/UCL-ELEC0136/2-data-processing-putubagusraka', 'https://api.github.com/repos/UCL-ELEC0136/0-git-github-fundamentals-TENGLi99', 'https://api.github.com/repos/UCL-ELEC0136/2-data-processing-Lavender517', 'https://api.github.com/repos/UCL-ELEC0136/1-data-acquisition-zhaoyangyin1231', 'https://api.github.com/repos/UCL-ELEC0136/2-data-processing-jossmt', 'https://api.github.com/repos/UCL-ELEC0136/2-data-processing-Robinaoko', 'https://api.github.com/repos/UCL-ELEC0136/2-data-processing-Allenfanfan', 'https://api.github.com/repos/UCL-ELEC0136/2-data-processing-orionsor', 'https://api.github.com/repos/UCL-ELEC0136/2-data-processing-wendiganyu', 'https://api.github.com/repos/UCL-ELEC0136/2-data-processing-lorenzobonito', 'https://api.github.com/repos/UCL-ELEC0136/2-data-processing-Trinity-Actual', 'https://api.github.com/repos/UCL-ELEC0136/2-data-processing-Dinakia', 'https://api.github.com/repos/UCL-ELEC0136/1-data-acquisition-Allenfanfan', 'https://api.github.com/repos/UCL-ELEC0136/2-data-processing-zhaoyangyin1231', 'https://api.github.com/repos/UCL-ELEC0136/2-data-processing-zceezl1', 'https://api.github.com/repos/UCL-ELEC0136/1-data-acquisition-zceezl1', 'https://api.github.com/repos/UCL-ELEC0136/2-data-processing-yousef-m11', 'https://api.github.com/repos/UCL-ELEC0136/1-data-acquisition-nicogig', 'https://api.github.com/repos/UCL-ELEC0136/0-git-github-fundamentals-akosua00', 'https://api.github.com/repos/UCL-ELEC0136/2-data-processing-nicogig', 'https://api.github.com/repos/UCL-ELEC0136/1-data-acquisition-Lucatoniyan', 'https://api.github.com/repos/UCL-ELEC0136/2-data-processing-oldcccc', 'https://api.github.com/repos/UCL-ELEC0136/2-data-processing-Fanny-Yuan', 'https://api.github.com/repos/UCL-ELEC0136/2-data-processing-konyc99', 'https://api.github.com/repos/UCL-ELEC0136/3-data-storage-lorenzobonito', 'https://api.github.com/repos/UCL-ELEC0136/3-data-storage-nicogig', 'https://api.github.com/repos/UCL-ELEC0136/1-data-acquisition-D-Luyao-Wang', 'https://api.github.com/repos/UCL-ELEC0136/setup', 'https://api.github.com/repos/UCL-ELEC0136/2-data-processing-akosua00', 'https://api.github.com/repos/UCL-ELEC0136/0-git-github-fundamentals-zhaoyangyin1231', 'https://api.github.com/repos/UCL-ELEC0136/2-data-processing-D-Luyao-Wang', 'https://api.github.com/repos/UCL-ELEC0136/1-data-acquisition-Zhao-Mingyang', 'https://api.github.com/repos/UCL-ELEC0136/2-data-processing-Zhao-Mingyang', 'https://api.github.com/repos/UCL-ELEC0136/0-git-github-fundamentals-Zhao-Mingyang', 'https://api.github.com/repos/UCL-ELEC0136/0-git-github-fundamentals-zceezl1', 'https://api.github.com/repos/UCL-ELEC0136/2-data-processing-hcy0523', 'https://api.github.com/repos/UCL-ELEC0136/1-data-acquisition-sayannide99', 'https://api.github.com/repos/UCL-ELEC0136/2-data-processing-sayannide99', 'https://api.github.com/repos/UCL-ELEC0136/2-data-processing-Lucatoniyan', 'https://api.github.com/repos/UCL-ELEC0136/3-data-storage-Trinity-Actual', 'https://api.github.com/repos/UCL-ELEC0136/3-data-storage-sayannide99', 'https://api.github.com/repos/UCL-ELEC0136/3-data-storage-tanpinray', 'https://api.github.com/repos/UCL-ELEC0136/3-data-storage-putubagusraka', 'https://api.github.com/repos/UCL-ELEC0136/3-data-storage-Fanny-Yuan', 'https://api.github.com/repos/UCL-ELEC0136/3-data-storage-Lavender517', 'https://api.github.com/repos/UCL-ELEC0136/3-data-storage-Dinakia', 'https://api.github.com/repos/UCL-ELEC0136/3-data-storage-TENGLi99', 'https://api.github.com/repos/UCL-ELEC0136/2-data-processing-zceepst', 'https://api.github.com/repos/UCL-ELEC0136/3-data-storage-zceepst', 'https://api.github.com/repos/UCL-ELEC0136/3-data-storage-KarlrDing', 'https://api.github.com/repos/UCL-ELEC0136/2-data-processing-ouxunuo', 'https://api.github.com/repos/UCL-ELEC0136/1-data-acquisition-zceeart', 'https://api.github.com/repos/UCL-ELEC0136/0-git-github-fundamentals-zceeart', 'https://api.github.com/repos/UCL-ELEC0136/3-data-storage-jossmt', 'https://api.github.com/repos/UCL-ELEC0136/3-data-storage-wendiganyu', 'https://api.github.com/repos/UCL-ELEC0136/1-data-acquisition-zceeanb', 'https://api.github.com/repos/UCL-ELEC0136/github-starter-course', 'https://api.github.com/repos/UCL-ELEC0136/0-git-github-fundamentals-Fanny-Yuan', 'https://api.github.com/repos/UCL-ELEC0136/0-git-github-fundamentals-Lucatoniyan', 'https://api.github.com/repos/UCL-ELEC0136/0-git-github-fundamentals-hcy0523', 'https://api.github.com/repos/UCL-ELEC0136/0-git-github-fundamentals-tanpinray', 'https://api.github.com/repos/UCL-ELEC0136/0-git-github-fundamentals-Trinity-Actual', 'https://api.github.com/repos/UCL-ELEC0136/0-git-github-fundamentals-putubagusraka', 'https://api.github.com/repos/UCL-ELEC0136/1-data-acquisition-Trinity-Actual', 'https://api.github.com/repos/UCL-ELEC0136/1-data-acquisition-tanpinray', 'https://api.github.com/repos/UCL-ELEC0136/1-data-acquisition-orionsor', 'https://api.github.com/repos/UCL-ELEC0136/1-data-acquisition-konyc99', 'https://api.github.com/repos/UCL-ELEC0136/1-data-acquisition-wxy12151', 'https://api.github.com/repos/UCL-ELEC0136/1-data-acquisition-hcy0523', 'https://api.github.com/repos/UCL-ELEC0136/1-data-acquisition-Robinaoko', 'https://api.github.com/repos/UCL-ELEC0136/1-data-acquisition-Dinakia', 'https://api.github.com/repos/UCL-ELEC0136/1-data-acquisition-putubagusraka', 'https://api.github.com/repos/UCL-ELEC0136/1-data-acquisition-AWMAPPLELIN', 'https://api.github.com/repos/UCL-ELEC0136/0-git-github-fundamentals-Robinaoko', 'https://api.github.com/repos/UCL-ELEC0136/1-data-acquisition-KarlrDing', 'https://api.github.com/repos/UCL-ELEC0136/1-data-acquisition-Lavender517', 'https://api.github.com/repos/UCL-ELEC0136/1-data-acquisition-lorenzobonito', 'https://api.github.com/repos/UCL-ELEC0136/1-data-acquisition-jossmt', 'https://api.github.com/repos/UCL-ELEC0136/1-data-acquisition-wendiganyu', 'https://api.github.com/repos/UCL-ELEC0136/1-data-acquisition-Fanny-Yuan', 'https://api.github.com/repos/UCL-ELEC0136/1-data-acquisition-zceepst', 'https://api.github.com/repos/UCL-ELEC0136/1-data-acquisition-Vanko1998', 'https://api.github.com/repos/UCL-ELEC0136/2-data-processing-KarlrDing', 'https://api.github.com/repos/UCL-ELEC0136/2-data-processing-wxy12151', 'https://api.github.com/repos/UCL-ELEC0136/0-git-github-fundamentals-KarlrDing', 'https://api.github.com/repos/UCL-ELEC0136/2-data-processing-plumcola', 'https://api.github.com/repos/UCL-ELEC0136/1-data-acquisition-ClarkRen123', 'https://api.github.com/repos/UCL-ELEC0136/2-data-processing-Vanko1998', 'https://api.github.com/repos/UCL-ELEC0136/1-data-acquisition-plumcola', 'https://api.github.com/repos/UCL-ELEC0136/0-git-github-fundamentals-plumcola', 'https://api.github.com/repos/UCL-ELEC0136/1-data-acquisition-akosua00', 'https://api.github.com/repos/UCL-ELEC0136/2-data-processing-tobyloby12', 'https://api.github.com/repos/UCL-ELEC0136/1-data-acquisition-tobyloby12', 'https://api.github.com/repos/UCL-ELEC0136/2-data-processing-TENGLi99', 'https://api.github.com/repos/UCL-ELEC0136/1-data-acquisition-Bhavya006', 'https://api.github.com/repos/UCL-ELEC0136/2-data-processing-tanpinray', 'https://api.github.com/repos/UCL-ELEC0136/0-git-github-fundamentals-Bhavya006', 'https://api.github.com/repos/UCL-ELEC0136/0-git-github-fundamentals-wxy12151', 'https://api.github.com/repos/UCL-ELEC0136/0-git-github-fundamentals-Dinakia', 'https://api.github.com/repos/UCL-ELEC0136/1-data-acquisition-TENGLi99', 'https://api.github.com/repos/UCL-ELEC0136/2-data-processing-putubagusraka', 'https://api.github.com/repos/UCL-ELEC0136/0-git-github-fundamentals-TENGLi99', 'https://api.github.com/repos/UCL-ELEC0136/2-data-processing-Lavender517', 'https://api.github.com/repos/UCL-ELEC0136/1-data-acquisition-zhaoyangyin1231', 'https://api.github.com/repos/UCL-ELEC0136/2-data-processing-jossmt', 'https://api.github.com/repos/UCL-ELEC0136/2-data-processing-Robinaoko', 'https://api.github.com/repos/UCL-ELEC0136/2-data-processing-Allenfanfan', 'https://api.github.com/repos/UCL-ELEC0136/2-data-processing-orionsor', 'https://api.github.com/repos/UCL-ELEC0136/2-data-processing-wendiganyu', 'https://api.github.com/repos/UCL-ELEC0136/2-data-processing-lorenzobonito', 'https://api.github.com/repos/UCL-ELEC0136/2-data-processing-Trinity-Actual', 'https://api.github.com/repos/UCL-ELEC0136/2-data-processing-Dinakia', 'https://api.github.com/repos/UCL-ELEC0136/1-data-acquisition-Allenfanfan', 'https://api.github.com/repos/UCL-ELEC0136/2-data-processing-zhaoyangyin1231', 'https://api.github.com/repos/UCL-ELEC0136/2-data-processing-zceezl1', 'https://api.github.com/repos/UCL-ELEC0136/1-data-acquisition-zceezl1', 'https://api.github.com/repos/UCL-ELEC0136/2-data-processing-yousef-m11', 'https://api.github.com/repos/UCL-ELEC0136/1-data-acquisition-nicogig', 'https://api.github.com/repos/UCL-ELEC0136/0-git-github-fundamentals-akosua00', 'https://api.github.com/repos/UCL-ELEC0136/2-data-processing-nicogig', 'https://api.github.com/repos/UCL-ELEC0136/1-data-acquisition-Lucatoniyan', 'https://api.github.com/repos/UCL-ELEC0136/2-data-processing-oldcccc', 'https://api.github.com/repos/UCL-ELEC0136/2-data-processing-Fanny-Yuan', 'https://api.github.com/repos/UCL-ELEC0136/2-data-processing-konyc99', 'https://api.github.com/repos/UCL-ELEC0136/3-data-storage-lorenzobonito', 'https://api.github.com/repos/UCL-ELEC0136/3-data-storage-nicogig', 'https://api.github.com/repos/UCL-ELEC0136/1-data-acquisition-D-Luyao-Wang', 'https://api.github.com/repos/UCL-ELEC0136/setup', 'https://api.github.com/repos/UCL-ELEC0136/2-data-processing-akosua00', 'https://api.github.com/repos/UCL-ELEC0136/0-git-github-fundamentals-zhaoyangyin1231', 'https://api.github.com/repos/UCL-ELEC0136/2-data-processing-D-Luyao-Wang', 'https://api.github.com/repos/UCL-ELEC0136/1-data-acquisition-Zhao-Mingyang', 'https://api.github.com/repos/UCL-ELEC0136/2-data-processing-Zhao-Mingyang', 'https://api.github.com/repos/UCL-ELEC0136/0-git-github-fundamentals-Zhao-Mingyang', 'https://api.github.com/repos/UCL-ELEC0136/0-git-github-fundamentals-zceezl1', 'https://api.github.com/repos/UCL-ELEC0136/2-data-processing-hcy0523', 'https://api.github.com/repos/UCL-ELEC0136/1-data-acquisition-sayannide99', 'https://api.github.com/repos/UCL-ELEC0136/2-data-processing-sayannide99', 'https://api.github.com/repos/UCL-ELEC0136/2-data-processing-Lucatoniyan', 'https://api.github.com/repos/UCL-ELEC0136/3-data-storage-Trinity-Actual', 'https://api.github.com/repos/UCL-ELEC0136/3-data-storage-sayannide99', 'https://api.github.com/repos/UCL-ELEC0136/3-data-storage-tanpinray', 'https://api.github.com/repos/UCL-ELEC0136/3-data-storage-putubagusraka', 'https://api.github.com/repos/UCL-ELEC0136/3-data-storage-Fanny-Yuan', 'https://api.github.com/repos/UCL-ELEC0136/3-data-storage-Lavender517', 'https://api.github.com/repos/UCL-ELEC0136/3-data-storage-Dinakia', 'https://api.github.com/repos/UCL-ELEC0136/3-data-storage-TENGLi99', 'https://api.github.com/repos/UCL-ELEC0136/2-data-processing-zceepst', 'https://api.github.com/repos/UCL-ELEC0136/3-data-storage-zceepst', 'https://api.github.com/repos/UCL-ELEC0136/3-data-storage-KarlrDing', 'https://api.github.com/repos/UCL-ELEC0136/2-data-processing-ouxunuo', 'https://api.github.com/repos/UCL-ELEC0136/1-data-acquisition-zceeart', 'https://api.github.com/repos/UCL-ELEC0136/0-git-github-fundamentals-zceeart', 'https://api.github.com/repos/UCL-ELEC0136/3-data-storage-jossmt', 'https://api.github.com/repos/UCL-ELEC0136/3-data-storage-wendiganyu', 'https://api.github.com/repos/UCL-ELEC0136/1-data-acquisition-zceeanb']\n"
     ]
    }
   ],
   "source": [
    "import requests\n",
    "entry_point = \"https://api.github.com/\"\n",
    "username = \"UCL-ELEC0136/\"\n",
    "query = entry_point + \"orgs/\" + username + \"repos\"\n",
    "\n",
    "urls = []\n",
    "for i in range(2):\n",
    "    response = requests.get(query, params={\"per_page\": 100, \"page\":i})\n",
    "    repos = response.json()\n",
    "    for repo in repos:\n",
    "        url = repo[\"url\"]\n",
    "        urls.append(url)\n",
    "    \n",
    "print(len(urls))\n",
    "print(urls)\n",
    "\n",
    "#for i in range(100):\n",
    "   # print(repos[i][\"url\"])"
   ]
  },
  {
   "cell_type": "markdown",
   "metadata": {},
   "source": [
    "## 5. Pushing your code to GitHub\n",
    "\n",
    "We are now ready to push our code that acquires data from GitHub to our repository (which is also GitHub, but this is just a coincidence, we could have used any other API, like Twitter's or Facebook's).\n",
    "\n",
    "<div class=\"alert alert-block alert-danger\">\n",
    "<b>👩‍💻👨‍💻 Action required</b>\n",
    "\n",
    "- Go into your terminal\n",
    "- Check the git status of your repository using the command `git status`\n",
    "- Verify that the files you want to commit are listed, and that there is no pending changes to pull from the remote\n",
    "- Add the files to the staging area using the command `git add <file-name>`\n",
    "- Commit the files using the command `git commit -m \"<commit-message>\"`\n",
    "- Use a meaningful commit message, e.g., `Acquire data from GitHub`\n",
    "- Push the files to GitHub using the command `git push`\n",
    "- Verify that the files have been pushed to GitHub by refreshing the page of your repository on GitHub. \n",
    "</div>"
   ]
  },
  {
   "cell_type": "code",
   "execution_count": null,
   "metadata": {},
   "outputs": [],
   "source": [
    "# write your code here, if applicable"
   ]
  },
  {
   "cell_type": "markdown",
   "metadata": {},
   "source": [
    "## 6. Submitting your assignment\n",
    "\n",
    "To submit this assignment and **every other future assignment**, included the **final assignment** you have to:\n",
    "- Commit and push your code to GitHub\n",
    "- Go to **your** repository of the assignment. This must be on our course organisation `UCL-ELEC0136` and usually has the pattern `https://github.com/UCL-ELEC0136/<assignment-name>-<your-github-username>`.\n",
    "- Go in the `Pull requests` tab and click on the `Feedback` pull request.\n",
    "- Click on `Files changed` and verify that the files you have changed are listed.\n",
    "- Merge the pull request by clicking on `Merge pull request` and then `Confirm merge`.\n",
    "\n",
    "We are now ready to push our code that acquires data from GitHub to our repository (which is also GitHub, but this is just a coincidence, we could have used any other API, like Twitter's or Facebook's).\n",
    "\n",
    "<div class=\"alert alert-block alert-danger\">\n",
    "<b>👩‍💻👨‍💻 Action required</b>\n",
    "\n",
    "Submit your assignment by following the steps above.\n",
    "</div>"
   ]
  },
  {
   "cell_type": "code",
   "execution_count": null,
   "metadata": {},
   "outputs": [],
   "source": [
    "# Write your code here, if applicable"
   ]
  },
  {
   "cell_type": "code",
   "execution_count": null,
   "metadata": {},
   "outputs": [],
   "source": []
  }
 ],
 "metadata": {
  "kernelspec": {
   "display_name": "Python 3 (ipykernel)",
   "language": "python",
   "name": "python3"
  },
  "language_info": {
   "codemirror_mode": {
    "name": "ipython",
    "version": 3
   },
   "file_extension": ".py",
   "mimetype": "text/x-python",
   "name": "python",
   "nbconvert_exporter": "python",
   "pygments_lexer": "ipython3",
   "version": "3.11.5"
  }
 },
 "nbformat": 4,
 "nbformat_minor": 4
}
